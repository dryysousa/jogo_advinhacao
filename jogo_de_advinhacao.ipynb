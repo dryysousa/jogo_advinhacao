{
  "cells": [
    {
      "cell_type": "markdown",
      "metadata": {
        "id": "view-in-github",
        "colab_type": "text"
      },
      "source": [
        "<a href=\"https://colab.research.google.com/github/dryysousa/jogo_advinhacao/blob/main/jogo_de_advinhacao.ipynb\" target=\"_parent\"><img src=\"https://colab.research.google.com/assets/colab-badge.svg\" alt=\"Open In Colab\"/></a>"
      ]
    },
    {
      "cell_type": "code",
      "execution_count": null,
      "metadata": {
        "colab": {
          "background_save": true
        },
        "id": "aSTa9b9O3Jwj"
      },
      "outputs": [],
      "source": [
        "import random\n",
        "\n",
        "nome_usuario = input('Digite seu nome de usuário: ') #inicial\n",
        "numero_secreto = random.randint(1, 1000) #numero aleatorio\n",
        "tentativas_maximas = 30  #número máximo de tentativas\n",
        "tentativas = 0\n",
        "\n",
        "while tentativas < tentativas_maximas:\n",
        "    chute = input(f'Olá, {nome_usuario} vamos jogar! Digite um número entre 1 e 1000: ')\n",
        "\n",
        "    # Certificar de que o valor digitado é um número\n",
        "    if not chute.isdigit():\n",
        "        print('Por favor, digite um número válido.')\n",
        "        continue  # Volta ao início do loop\n",
        "\n",
        "    chute = int(chute)\n",
        "\n",
        "    if chute == numero_secreto:\n",
        "        print(f'Parabéns, {nome_usuario}! Você acertou!')\n",
        "        break  # Sai do loop quando o número é acertado\n",
        "    elif chute > numero_secreto:\n",
        "        print(f'Poxa, {nome_usuario}... você errou! ) o número secreto é menor')\n",
        "    else:\n",
        "        print(f'Errou, {nome_usuario}... o número secreto é maior')\n",
        "\n",
        "    tentativas += 1\n",
        "\n",
        "if tentativas == tentativas_maximas:\n",
        "    print(f'Suas tentativas acabaram, {nome_usuario}. O número secreto era: {numero_secreto}')"
      ]
    }
  ],
  "metadata": {
    "colab": {
      "provenance": [],
      "authorship_tag": "ABX9TyN6ZL3Q0G8HU+6FVDwrCSed",
      "include_colab_link": true
    },
    "kernelspec": {
      "display_name": "Python 3",
      "name": "python3"
    },
    "language_info": {
      "name": "python"
    }
  },
  "nbformat": 4,
  "nbformat_minor": 0
}