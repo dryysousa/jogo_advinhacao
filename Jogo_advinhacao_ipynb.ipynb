{
  "nbformat": 4,
  "nbformat_minor": 0,
  "metadata": {
    "colab": {
      "provenance": [],
      "authorship_tag": "ABX9TyOqdU28T28qPB4Y0zwweDgL",
      "include_colab_link": true
    },
    "kernelspec": {
      "name": "python3",
      "display_name": "Python 3"
    },
    "language_info": {
      "name": "python"
    }
  },
  "cells": [
    {
      "cell_type": "markdown",
      "metadata": {
        "id": "view-in-github",
        "colab_type": "text"
      },
      "source": [
        "<a href=\"https://colab.research.google.com/github/dryysousa/jogo_advinhacao/blob/main/Jogo_advinhacao_ipynb.ipynb\" target=\"_parent\"><img src=\"https://colab.research.google.com/assets/colab-badge.svg\" alt=\"Open In Colab\"/></a>"
      ]
    },
    {
      "cell_type": "code",
      "execution_count": 25,
      "metadata": {
        "id": "UNTzYfzD-zR-",
        "colab": {
          "base_uri": "https://localhost:8080/"
        },
        "outputId": "45991ed5-de11-46de-ce5d-6ba7d81d940e"
      },
      "outputs": [
        {
          "output_type": "stream",
          "name": "stdout",
          "text": [
            "Digite seu nome de usuário: dry\n",
            "Escolha o nível de dificuldade:\n",
            "1 - Fácil (50 tentativas)\n",
            "2 - Médio (30 tentativas)\n",
            "3 - Difícil (10 tentativas)\n",
            "Digite o nível de dificuldade: 1\n",
            "Olá, dry vamos jogar! Digite um número entre 1 e 1000. Você tem 50 chances: 500\n",
            "Poxa, dry Quase lá... o número secreto é maior.\n",
            "-----Você perdeu 10 pontos nesta tentativa.-----\n",
            "Olá, dry vamos jogar! Digite um número entre 1 e 1000. Você tem 50 chances: 660\n",
            "Poxa, dry Quase lá... o número secreto é maior.\n",
            "-----Você perdeu 10 pontos nesta tentativa.-----\n",
            "Olá, dry vamos jogar! Digite um número entre 1 e 1000. Você tem 50 chances: 800\n",
            "Poxa, dry Quase lá... o número secreto é maior.\n",
            "-----Você perdeu 10 pontos nesta tentativa.-----\n",
            "Olá, dry vamos jogar! Digite um número entre 1 e 1000. Você tem 50 chances: 900\n",
            "Poxa, dry Quase lá... o número secreto é maior.\n",
            "-----Você perdeu 10 pontos nesta tentativa.-----\n",
            "Olá, dry vamos jogar! Digite um número entre 1 e 1000. Você tem 50 chances: 950\n",
            "Poxa, dry Quase lá... o número secreto é maior.\n",
            "-----Você perdeu 10 pontos nesta tentativa.-----\n",
            "Olá, dry vamos jogar! Digite um número entre 1 e 1000. Você tem 50 chances: 980\n",
            "Poxa, dry Quase lá... o número secreto é maior.\n",
            "-----Você perdeu 10 pontos nesta tentativa.-----\n",
            "Olá, dry vamos jogar! Digite um número entre 1 e 1000. Você tem 50 chances: 990\n",
            "Muito bem, dry!!! Você acertou!\n",
            "Sua pontuação final foi de: 940.\n",
            "\n",
            "Deseja jogar novamente? (s/n): n\n",
            "\n",
            "Obrigado por jogar, dry!\n"
          ]
        }
      ],
      "source": [
        "import random\n",
        "\n",
        "def jogo_advinhacao():\n",
        "    nome_usuario = input('Digite seu nome de usuário: ') #inicial\n",
        "\n",
        "#nivel de dificuldade\n",
        "    while True:\n",
        "        print(\"Escolha o nível de dificuldade:\")\n",
        "        print(\"1 - Fácil (50 tentativas)\")\n",
        "        print(\"2 - Médio (30 tentativas)\")\n",
        "        print(\"3 - Difícil (10 tentativas)\")\n",
        "\n",
        "        while True:\n",
        "            try:\n",
        "                nivel = int(input(\"Digite o nível de dificuldade: \"))\n",
        "                if nivel == 1:\n",
        "                    tentativas_maximas = 50\n",
        "                    break\n",
        "                elif nivel == 2:\n",
        "                    tentativas_maximas = 30\n",
        "                    break\n",
        "                elif nivel == 3:\n",
        "                    tentativas_maximas = 10\n",
        "                    break\n",
        "                else:\n",
        "                    print(\"Por favor, escolha um número válido.\")\n",
        "\n",
        "            except ValueError:\n",
        "                print(\"Por favor, digite um número válido.\")\n",
        "\n",
        "        numero_secreto = random.randint(1, 1000) # numero aleatorio\n",
        "        tentativas = 0\n",
        "        tentativas_anteriores = []\n",
        "        pontuacao = 1000\n",
        "\n",
        "        while tentativas < tentativas_maximas:\n",
        "            try:\n",
        "                chute = int(input(f'Olá, {nome_usuario} vamos jogar! Digite um número entre 1 e 1000. Você tem {tentativas_maximas} chances: '))\n",
        "\n",
        "          # armazenar tentativas\n",
        "                tentativas_anteriores.append(chute)\n",
        "\n",
        "          # verificar se está correto\n",
        "                if chute == numero_secreto:\n",
        "                    print(f'Muito bem, {nome_usuario}!!! Você acertou!')\n",
        "                    print(f'Sua pontuação final foi de: {pontuacao}.')\n",
        "                    break       # sai do loop\n",
        "                elif chute > numero_secreto:\n",
        "                    print(f'Poxa, {nome_usuario} Quase lá... o número secreto é menor.')\n",
        "                else:\n",
        "                    print(f'Poxa, {nome_usuario} Quase lá... o número secreto é maior.')\n",
        "\n",
        "                tentativas += 1   #contador de tentativas\n",
        "\n",
        "                # diminuir a pontuação a cada tentativa errada\n",
        "                pontos_perdidos = 10\n",
        "                pontuacao -= pontos_perdidos\n",
        "                print(f'-----Você perdeu 10 pontos nesta tentativa.-----')\n",
        "\n",
        "            except ValueError:\n",
        "                print('Por favor, digite um número válido.') #mensagem de erro\n",
        "\n",
        "        # se for atingidos o numero maximo de tentativas\n",
        "        if tentativas == tentativas_maximas:\n",
        "            print(f'Suas tentativas acabaram, {nome_usuario}! O número secreto era {numero_secreto}.')\n",
        "\n",
        "        #perguntar se quer jogar novamente\n",
        "        jogar_novamente = input(\"\\nDeseja jogar novamente? (s/n): \")\n",
        "        if jogar_novamente.lower() != 's':\n",
        "            print(f'\\nObrigado por jogar, {nome_usuario}!')\n",
        "            break\n",
        "\n",
        "# Iniciar o jogo de adivinhação\n",
        "jogo_advinhacao()\n",
        ""
      ]
    }
  ]
}